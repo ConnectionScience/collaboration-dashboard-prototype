{
 "cells": [
  {
   "cell_type": "code",
   "execution_count": 1,
   "metadata": {
    "collapsed": false
   },
   "outputs": [
    {
     "name": "stdout",
     "output_type": "stream",
     "text": [
      "README.md     \u001b[34mgame-chat\u001b[m\u001b[m     \u001b[34mgithub\u001b[m\u001b[m        \u001b[34mirc\u001b[m\u001b[m           \u001b[34mmailing-lists\u001b[m\u001b[m models.ipynb  models.json   \u001b[34mslack\u001b[m\u001b[m         \u001b[34mtranscripts\u001b[m\u001b[m\r\n"
     ]
    }
   ],
   "source": [
    "platforms = [\"game-chat\", \"github\", \"irc\", \"mailing-lists\", \"transcripts\"]\n",
    "!ls "
   ]
  },
  {
   "cell_type": "code",
   "execution_count": null,
   "metadata": {
    "collapsed": true
   },
   "outputs": [],
   "source": []
  }
 ],
 "metadata": {
  "kernelspec": {
   "display_name": "Python 2",
   "language": "python",
   "name": "python2"
  },
  "language_info": {
   "codemirror_mode": {
    "name": "ipython",
    "version": 2
   },
   "file_extension": ".py",
   "mimetype": "text/x-python",
   "name": "python",
   "nbconvert_exporter": "python",
   "pygments_lexer": "ipython2",
   "version": "2.7.10"
  }
 },
 "nbformat": 4,
 "nbformat_minor": 0
}
